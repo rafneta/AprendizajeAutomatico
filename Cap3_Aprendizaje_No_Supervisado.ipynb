{
 "cells": [
  {
   "cell_type": "markdown",
   "metadata": {},
   "source": [
    "## Aprendizaje no supervisado\n",
    " \n",
    "No existen salidas determinadas, la tarea es descubrir la estructra de los datos\n",
    "\n",
    "Como se a mencionado en este tipode aprendizaje la respuesta no es porporcionada, por lo que es dificil verificar si se ha cumplido el objetivo, el problema de CLustering. POr ejemplo clasicar tomates con tomates. Por ejmeplo identificar a un cliente cono un punto y graficarlo de acuerdoa sus habitos de compra, de esa manera o¡los clientes que tengan habitos de compra similares estrán cerca (geometricamente), se formarán clusters. Otro ejemplo es en Deep Learning las Gnerative Adversarial Networks (GANs). POr ejemplo dadas algun tipo de datos, fotos de de caras de personas, las GAN pueden generar más sobre lo mismo caraas que arescan reales pero a partir de las fotos\n",
    "\n",
    "El aprendizaje no supervisado es útil cuando desea explorar sus datos pero aún no tiene un objetivo específico o no está seguro de qué información contienen los datos. También es una buena forma de reducir las dimensiones de sus datos.\n",
    "\n",
    "En el análisis de conglomerados, los datos se dividen en grupos según alguna medida de similitud o característica compartida. Los clústeres se forman de manera que los objetos en el mismo clúster son muy similares y los objetos en diferentes clústeres son muy distintos. Gaussian mixture. Mapas auto-organizados, clustering-jerárquico (Para ver posbles estrucuras en los datos). Usar la evaluación de cluster (para ver el mejor numero de de clusters)\n",
    "\n",
    "Clustering fuerte. Cada punto pertenece solo aun cluster\n",
    "k-Means. Se particionan los datos en $k$ clusters mutuamente exlutentes, determinando si pertence al cluster al medir la distancia la centro de cluster. Se utiliza cuando el numer de clusters es conocido, para un clustering rapido para una gran cantidad de datos\n",
    "K-Medoids. similar a K-Means, pero el centro de los clusters coincide con los puntos (datos). Se usa cuando el numro de clusters es conocido, para el clustering rápido e datos categoricos, para escalar a grandes cantidades de datos\n",
    "CLustering Jerárquico. Produce conjuntos anidados de clusters mediante el analisis de similitudes entre pares de puntos y agrupando objetos d entro de un arbol binario jerarquico. Es usado cuando no se sabe que cantidad de clusters tendr´s en tus datos, cuando se quiere una guía de vsualización de su selección. El dendrograma parece como un organizagrama\n",
    "Mapas-Autoorganziados. Redes neuronales basados en clustering que transforman un conjunto de datos en un mapeo 2D que presrva la topología. Es usado para visualizar datos de alta dimensión 2D y 3D, para reducir la dimensión de los datos presevando su topología (forma)\n",
    "Clustering debíl. Cada punto puede pertencer a más de un cluster\n",
    "Fuzzy c-Means. Cuando los datos pueden pertencer a ás de un cluster. Se usa cuando el nnumero de culsters es conocido, para reconocimiento de patrones, cuando los clusters se traslapan\n",
    "MOdelo de Mezla Gaussiana. CUando los datos provienen de distribuciones normales multivariadas con ciertas probabilidades. Se usa cuando los datos pueden pertenecer a más de un cluster, cuando los clusters tienen diferentes tamaños y tienen estructuras ciorrelacionadas entre ellos\n",
    "tecnicas de reducción de dimensiones\n",
    "\n",
    "Analisis de Componentes prncipales. Realiza una transformacion lineal de los datos donde la mayor varianza o informacion de todas las variables es capturada por sus principales componentes. Esta importacua es jerarquizada por la primera variables la segunda, esto lo he hecho en econometria. Cad componente pricipal es una combinacion lineal de las primeras variables donde no hay información redundante pues son ortoganles entre si\n",
    "analissi de Factor. Identifica la correlació entre las variables para proveer de una representacion en terminos de una numero peueño de factors comunes o latentes. Puede que tengas varibles que dependan entre si ( se traslapen) esta tecnica te permite obtener un modelo que estima el orden de dependencia, piensas que estas varibales dependen de diferentes factores por lo que extraes estos factores y expresas las variables como una combinación lineal de ellos\n",
    "Factorizaciñon d mAtrices no NEgativa. Usada cuando los terminos del modelo deben epresentacrse en cantidades no negativas como cantidades fisicas. Esta tecnica esta basada en un esacio de aproximación de rango bajo.\n",
    "El aprendizaje no-supervisado se puede ver como un preprocesamiento para el aprendizaje no spervisado, de ser posible."
   ]
  }
 ],
 "metadata": {
  "kernelspec": {
   "display_name": "Python 2",
   "language": "python",
   "name": "python2"
  },
  "language_info": {
   "codemirror_mode": {
    "name": "ipython",
    "version": 2
   },
   "file_extension": ".py",
   "mimetype": "text/x-python",
   "name": "python",
   "nbconvert_exporter": "python",
   "pygments_lexer": "ipython2",
   "version": "2.7.15"
  }
 },
 "nbformat": 4,
 "nbformat_minor": 2
}
