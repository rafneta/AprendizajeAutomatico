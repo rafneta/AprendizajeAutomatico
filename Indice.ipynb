{
 "cells": [
  {
   "cell_type": "markdown",
   "metadata": {},
   "source": [
    "## Índice\n",
    "\n",
    "\n",
    "### [1. Introducción al Aprendizaje Automático]()\n",
    "- [Definición de conceptos básicos]()\n",
    "- [Antecedentes matemáticos]()\n",
    "\n",
    "### [2. Aprendizje Supervisado]()\n",
    "\n",
    "#### [2.1 Regresión]()\n",
    "- [Regresión lineal]()\n",
    "- [Regresión polnomial]()\n",
    "\n",
    "#### [2.2 Clasificación]()\n",
    "- [Regresión logística]()\n",
    "- [Máquinas de soporte vectorial]()\n",
    "\n",
    "### [3. Aprendizaje no supervisado]()\n",
    "\n",
    "#### [3.1 Clustering]()\n",
    "- [K-Medias]()\n",
    "- [Mapas autoorganizados (Redes de Kohonen)]()\n",
    "\n",
    "#### [3.2 Reducción de dimensión]()\n",
    "\n",
    "### [4. Aprendizaje reforzado]()\n"
   ]
  },
  {
   "cell_type": "code",
   "execution_count": null,
   "metadata": {},
   "outputs": [],
   "source": []
  }
 ],
 "metadata": {
  "kernelspec": {
   "display_name": "Python 2",
   "language": "python",
   "name": "python2"
  },
  "language_info": {
   "codemirror_mode": {
    "name": "ipython",
    "version": 2
   },
   "file_extension": ".py",
   "mimetype": "text/x-python",
   "name": "python",
   "nbconvert_exporter": "python",
   "pygments_lexer": "ipython2",
   "version": "2.7.15"
  }
 },
 "nbformat": 4,
 "nbformat_minor": 2
}
